{
 "cells": [
  {
   "cell_type": "code",
   "execution_count": 1,
   "metadata": {
    "collapsed": true
   },
   "outputs": [],
   "source": [
    "import numpy as np\n",
    "import pandas as pd\n",
    "import math\n",
    "import itertools\n",
    "import matplotlib.pyplot as plt\n",
    "%matplotlib inline"
   ]
  },
  {
   "cell_type": "code",
   "execution_count": 2,
   "metadata": {
    "collapsed": true
   },
   "outputs": [],
   "source": [
    "def get_distance(data1, data2):\n",
    "    points = zip(data1, data2)\n",
    "    diffs_squared_distance = [pow(a - b, 2) for (a, b) in points]\n",
    "    return math.sqrt(sum(diffs_squared_distance))"
   ]
  },
  {
   "cell_type": "code",
   "execution_count": 3,
   "metadata": {
    "collapsed": true
   },
   "outputs": [],
   "source": [
    "UNCLASSIFIED = False\n",
    "NOISE = None"
   ]
  },
  {
   "cell_type": "code",
   "execution_count": 4,
   "metadata": {
    "collapsed": true
   },
   "outputs": [],
   "source": [
    "def _eps_neighborhood(p,q,eps):\n",
    "\treturn get_distance(p,q) < eps\n",
    "\n",
    "def _region_query(m, point_id, eps):\n",
    "    n_points = m.shape[1]\n",
    "    seeds = []\n",
    "    for i in range(0, n_points):\n",
    "        if _eps_neighborhood(m[:,point_id], m[:,i], eps):\n",
    "            seeds.append(i)\n",
    "    return seeds\n",
    "\n",
    "def _expand_cluster(m, classifications, point_id, cluster_id, eps, min_points):\n",
    "    seeds = _region_query(m, point_id, eps)\n",
    "    if len(seeds) < min_points:\n",
    "        classifications[point_id] = NOISE\n",
    "        return False\n",
    "    else:\n",
    "        classifications[point_id] = cluster_id\n",
    "        for seed_id in seeds:\n",
    "            classifications[seed_id] = cluster_id\n",
    "            \n",
    "        while len(seeds) > 0:\n",
    "            current_point = seeds[0]\n",
    "            results = _region_query(m, current_point, eps)\n",
    "            if len(results) >= min_points:\n",
    "                for i in range(0, len(results)):\n",
    "                    result_point = results[i]\n",
    "                    if classifications[result_point] == UNCLASSIFIED or \\\n",
    "                       classifications[result_point] == NOISE:\n",
    "                        if classifications[result_point] == UNCLASSIFIED:\n",
    "                            seeds.append(result_point)\n",
    "                        classifications[result_point] = cluster_id\n",
    "            seeds = seeds[1:]\n",
    "        return True"
   ]
  },
  {
   "cell_type": "code",
   "execution_count": 5,
   "metadata": {
    "collapsed": true
   },
   "outputs": [],
   "source": [
    "def dbscan(m, eps, min_points):\n",
    "    cluster_id = 1\n",
    "    n_points = m.shape[1]\n",
    "    classifications = [UNCLASSIFIED] * n_points\n",
    "    for point_id in range(0, n_points):\n",
    "        point = m[:,point_id]\n",
    "        if classifications[point_id] == UNCLASSIFIED:\n",
    "            if _expand_cluster(m, classifications, point_id, cluster_id, eps, min_points):\n",
    "                cluster_id = cluster_id + 1\n",
    "    return classifications"
   ]
  },
  {
   "cell_type": "code",
   "execution_count": 6,
   "metadata": {
    "collapsed": false
   },
   "outputs": [],
   "source": [
    "data = np.genfromtxt('dataset1.txt', delimiter=' ', usecols = range(0,2))\n",
    "X = np.array(data)"
   ]
  },
  {
   "cell_type": "code",
   "execution_count": 7,
   "metadata": {
    "collapsed": false
   },
   "outputs": [],
   "source": [
    "X1 = []\n",
    "X2 = []\n",
    "for i in range(0,len(X)):\n",
    "    X1.append(X[i][0])\n",
    "    X2.append(X[i][1])\n",
    "mk = np.matrix([X1,X2])"
   ]
  },
  {
   "cell_type": "code",
   "execution_count": 8,
   "metadata": {
    "collapsed": true
   },
   "outputs": [],
   "source": [
    "def test_dbscan():\n",
    "    eps = 0.08\n",
    "    min_points = 2\n",
    "    return dbscan(mk, eps, min_points)"
   ]
  },
  {
   "cell_type": "code",
   "execution_count": 9,
   "metadata": {
    "collapsed": false
   },
   "outputs": [],
   "source": [
    "ans = test_dbscan()"
   ]
  },
  {
   "cell_type": "code",
   "execution_count": 10,
   "metadata": {
    "collapsed": false
   },
   "outputs": [
    {
     "data": {
      "image/png": "[encoded data removed]",
      "text/plain": [
       "<matplotlib.figure.Figure at 0x7f8a6ee53be0>"
      ]
     },
     "metadata": {},
     "output_type": "display_data"
    }
   ],
   "source": [
    "colors = [\"g.\",\"r.\",\"b.\"]\n",
    "for i in range(len(X)):\n",
    "    plt.plot(X[i][0],X[i][1],colors[ans[i]])\n",
    "plt.show()"
   ]
  },
  {
   "cell_type": "code",
   "execution_count": 11,
   "metadata": {
    "collapsed": true
   },
   "outputs": [],
   "source": [
    "data2 = np.genfromtxt('dataset2.txt', delimiter=' ', usecols = range(0,2))\n",
    "Y = np.array(data2)"
   ]
  },
  {
   "cell_type": "code",
   "execution_count": 12,
   "metadata": {
    "collapsed": true
   },
   "outputs": [],
   "source": [
    "Y1 = []\n",
    "Y2 = []\n",
    "for i in range(0,len(Y)):\n",
    "    Y1.append(Y[i][0])\n",
    "    Y2.append(Y[i][1])\n",
    "mk1 = np.matrix([Y1,Y2])"
   ]
  },
  {
   "cell_type": "code",
   "execution_count": 13,
   "metadata": {
    "collapsed": true
   },
   "outputs": [],
   "source": [
    "def test_dbscan1():\n",
    "    eps = 1.8\n",
    "    min_points = 2\n",
    "    return dbscan(mk1, eps, min_points)"
   ]
  },
  {
   "cell_type": "code",
   "execution_count": 14,
   "metadata": {
    "collapsed": true
   },
   "outputs": [],
   "source": [
    "ans1 = test_dbscan1()"
   ]
  },
  {
   "cell_type": "code",
   "execution_count": 15,
   "metadata": {
    "collapsed": false
   },
   "outputs": [
    {
     "name": "stdout",
     "output_type": "stream",
     "text": [
      "[1, 2, 2, 3, 3, 2, 2, 1, 1, 2, 2, 2, 3, 3, 3, 3, 3, 3, 1, 3, 3, 2, 3, 1, 1, 1, 2, 3, 3, 3, 1, 3, 3, 3, 3, 3, 2, 1, 2, 1, 3, 3, 2, 3, 3, 3, 2, 1, 1, 3, 3, 1, 2, 3, 2, 3, 1, 2, 3, 1, 3, 2, 2, 1, 1, 1, 2, 1, 3, 3, 2, 1, 1, 3, 3, 1, 3, 1, 1, 3, 3, 2, 2, 2, 2, 1, 1, 3, 2, 1, 2, 3, 3, 1, 1, 3, 3, 3, 1, 1, 2, 3, 2, 3, 1, 3, 1, 2, 2, 1, 1, 2, 1, 2, 3, 3, 1, 3, 1, 3, 3, 2, 2, 3, 2, 1, 1, 2, 3, 3, 3, 1, 1, 1, 2, 1, 2, 2, 1, 2, 3, 2, 2, 1, 3, 2, 2, 1, 1, 3, 2, 3, 1, 2, 2, 1, 1, 3, 2, 3, 1, 2, 3, 3, 1, 1, 2, 3, 1, 2, 1, 3, 2, 3, 2, 1, 1, 3, 2, 2, 3, 1, 1, 1, 2, 2, 1, 3, 3, 1, 2, 3, 3, 1, 2, 2, 3, 3, 1, 1, 1, 3, 1, 2, 2, 3, 2, 2, 1, 3, 2, 1, 3, 3, 1, 1, 3, 2, 1, 3, 2, 2, 2, 3, 3, 1, 2, 2, 2, 2, 1, 1, 2, 1, 3, 3, 2, 1, 1, 3, 2, 1, 2, 1, 3, 2, 1, 2, 3, 2, 2, 1, 1, 3, 2, 1, 1, 3, 2, 3, 3, 2, 3, 3, 1, 1, 1, 1, 1, 3, 3, 1, 1, 2, 2, 1, 1, 3, 3, 2, 3, 1, 2, 3, 3, 2, 1, 3, 3, 1, 3, 3, 1, 1, 2, 2, 2, 1, 3, 1, 1, 1, 1, 1, 2, 1, 3, 2, 3, 2, 2, 2, 3, 3, 2, 2, 1, 1, 1, 3, 2, 3, 3, 2, 3, 3, 1, 3, 1, 2, 2, 3, 1, 2, 3, 3, 1, 2, 3, 2, 2, 3, 2, 2, 3, 1, 3, 1, 1, 2, 3, 3, 2, 2, 3, 1, 2, 1, 1, 1, 2, 3, 2, 2, 1, 1, 2, 3, 1, 2, 1, 3, 2, 2, 1, 3, 1, 3, 2, 3, 3, 1, 1, 1, 2, 2, 1, 3, 3, 2, 2, 2, 1, 2, 2, 3, 1, 1, 1, 2, 2, 3, 3, 3, 1, 3, 2, 3, 3, 1, 2, 3, 1, 3, 2, 3, 1, 2, 3, 3, 3, 1, 2, 3, 1, 2, 2, 1, 3, 1, 2, 1, 2, 3, 1, 2, 2, 2, 3, 2, 1, 1, 1, 1, 2, 1, 3, 3, 2, 1, 1, 3, 2, 1, 3, 2, 2, 2, 1, 3, 2, 2, 1, 2, 2, 1, 1, 1, 3, 2, 3, 2, 1, 1, 2, 1, 2, 1, 1, 2, 3, 3, 2, 2, 3, 2, 3, 3, 3, 3, 1, 2, 3, 1, 2, None, None, None, None, None]\n"
     ]
    }
   ],
   "source": [
    "print (ans1)\n"
   ]
  },
  {
   "cell_type": "code",
   "execution_count": 16,
   "metadata": {
    "collapsed": false
   },
   "outputs": [
    {
     "data": {
      "image/png": "[encoded data removed]",
      "text/plain": [
       "<matplotlib.figure.Figure at 0x7f8a6c938e80>"
      ]
     },
     "metadata": {},
     "output_type": "display_data"
    }
   ],
   "source": [
    "colors1 = [\"c.\",\"r.\",\"b.\",\"g.\"]\n",
    "for j in range(0,len(Y)):\n",
    "    if ans1[j] == 1:\n",
    "         plt.plot(Y[j][0],Y[j][1],colors1[1])\n",
    "    elif ans1[j] == 2:\n",
    "        plt.plot(Y[j][0],Y[j][1],colors1[2])\n",
    "    elif ans1[j] == 3:\n",
    "        plt.plot(Y[j][0],Y[j][1],colors1[3])\n",
    "    else:\n",
    "        plt.plot(Y[j][0],Y[j][1],colors1[0])\n",
    "plt.show()"
   ]
  },
  {
   "cell_type": "code",
   "execution_count": null,
   "metadata": {
    "collapsed": true
   },
   "outputs": [],
   "source": []
  }
 ],
 "metadata": {
  "anaconda-cloud": {},
  "kernelspec": {
   "display_name": "Python [Root]",
   "language": "python",
   "name": "Python [Root]"
  },
  "language_info": {
   "codemirror_mode": {
    "name": "ipython",
    "version": 3
   },
   "file_extension": ".py",
   "mimetype": "text/x-python",
   "name": "python",
   "nbconvert_exporter": "python",
   "pygments_lexer": "ipython3",
   "version": "3.5.2"
  }
 },
 "nbformat": 4,
 "nbformat_minor": 0
}
